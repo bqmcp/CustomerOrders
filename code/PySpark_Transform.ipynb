{
  "nbformat": 4,
  "nbformat_minor": 0,
  "metadata": {
    "colab": {
      "provenance": []
    },
    "kernelspec": {
      "name": "python3",
      "display_name": "Python 3"
    },
    "language_info": {
      "name": "python"
    }
  },
  "cells": [
    {
      "cell_type": "code",
      "execution_count": 9,
      "metadata": {
        "id": "Sisp2NGZ1xtj"
      },
      "outputs": [],
      "source": [
        "import os\n",
        "import sys\n",
        "import pandas as pd\n",
        "from pyspark.sql import SparkSession\n",
        "from pyspark.sql import functions as F\n",
        "from pyspark.sql.types import *\n",
        "from pyspark.sql.window import Window\n",
        "import unittest\n",
        "import json\n",
        "import csv\n",
        "from datetime import datetime\n",
        "from decimal import Decimal, ROUND_HALF_UP"
      ]
    },
    {
      "cell_type": "code",
      "source": [
        "print(os.getcwd())"
      ],
      "metadata": {
        "colab": {
          "base_uri": "https://localhost:8080/"
        },
        "id": "Oe2seXIp2BtP",
        "outputId": "c1686add-b2da-4d3c-9ac8-a776748e0b42"
      },
      "execution_count": 10,
      "outputs": [
        {
          "output_type": "stream",
          "name": "stdout",
          "text": [
            "/content\n"
          ]
        }
      ]
    },
    {
      "cell_type": "code",
      "source": [
        "import pandas as pd\n",
        "from pyspark.sql import SparkSession\n",
        "\n",
        "# Create Spark session if not already created\n",
        "spark = SparkSession.builder \\\n",
        "    .appName(\"EcommerceAnalysis\") \\\n",
        "    .getOrCreate()\n",
        "\n",
        "base_path = \"/content\""
      ],
      "metadata": {
        "id": "7n5wtA7p2Bvg"
      },
      "execution_count": 15,
      "outputs": []
    },
    {
      "cell_type": "code",
      "source": [
        "products_df = spark.read \\\n",
        "    .format(\"csv\") \\\n",
        "    .option(\"header\", \"true\") \\\n",
        "    .option(\"inferSchema\", \"true\") \\\n",
        "    .load(f\"{base_path}/Products.csv\")\n"
      ],
      "metadata": {
        "id": "9i9t7E2B2Bxu"
      },
      "execution_count": 16,
      "outputs": []
    },
    {
      "cell_type": "code",
      "source": [
        "display(products_df)"
      ],
      "metadata": {
        "colab": {
          "base_uri": "https://localhost:8080/",
          "height": 35
        },
        "id": "K-7EZsfZ2B0E",
        "outputId": "ee8244ac-6f94-4c24-add4-7670a7ba4f98"
      },
      "execution_count": 17,
      "outputs": [
        {
          "output_type": "display_data",
          "data": {
            "text/plain": [
              "DataFrame[Product ID: string, Category: string, Sub-Category: string, Product Name: string, State: string, Price per product: string]"
            ]
          },
          "metadata": {}
        }
      ]
    },
    {
      "cell_type": "code",
      "source": [
        "orders_df = spark.read \\\n",
        "    .format(\"json\") \\\n",
        "    .option(\"multiLine\", \"true\") \\\n",
        "    .load(f\"{base_path}/Orders.json\")"
      ],
      "metadata": {
        "id": "uqEXN26K14ra"
      },
      "execution_count": 6,
      "outputs": []
    },
    {
      "cell_type": "code",
      "source": [
        "display(orders_df)"
      ],
      "metadata": {
        "colab": {
          "base_uri": "https://localhost:8080/",
          "height": 53
        },
        "id": "PARXkmst3-AB",
        "outputId": "08c3a951-f774-4c28-f3bc-916629c74441"
      },
      "execution_count": 7,
      "outputs": [
        {
          "output_type": "display_data",
          "data": {
            "text/plain": [
              "DataFrame[Customer ID: string, Discount: double, Order Date: string, Order ID: string, Price: double, Product ID: string, Profit: double, Quantity: bigint, Row ID: bigint, Ship Date: string, Ship Mode: string]"
            ]
          },
          "metadata": {}
        }
      ]
    },
    {
      "cell_type": "code",
      "source": [
        "customer_pd = pd.read_excel(f\"{base_path}/Customer.xlsx\")\n",
        "customer_df = spark.createDataFrame(customer_pd)"
      ],
      "metadata": {
        "id": "o8SZMhLC4Agx"
      },
      "execution_count": 13,
      "outputs": []
    },
    {
      "cell_type": "code",
      "source": [
        "display(customer_df)"
      ],
      "metadata": {
        "colab": {
          "base_uri": "https://localhost:8080/",
          "height": 53
        },
        "id": "VQ9gSgmV4Hzv",
        "outputId": "81223f5d-03da-4051-aa4a-0eeebdfb2dca"
      },
      "execution_count": 14,
      "outputs": [
        {
          "output_type": "display_data",
          "data": {
            "text/plain": [
              "DataFrame[Customer ID: string, Customer Name: string, email: string, phone: string, address: string, Segment: string, Country: string, City: string, State: string, Postal Code: bigint, Region: string]"
            ]
          },
          "metadata": {}
        }
      ]
    },
    {
      "cell_type": "code",
      "source": [
        "orders_df.show(5)"
      ],
      "metadata": {
        "colab": {
          "base_uri": "https://localhost:8080/"
        },
        "id": "YKfbekeX4uHL",
        "outputId": "340d3afd-7c00-4322-d94c-371162095f71"
      },
      "execution_count": 18,
      "outputs": [
        {
          "output_type": "stream",
          "name": "stdout",
          "text": [
            "+-----------+--------+----------+--------------+------+---------------+------+--------+------+---------+--------------+\n",
            "|Customer ID|Discount|Order Date|      Order ID| Price|     Product ID|Profit|Quantity|Row ID|Ship Date|     Ship Mode|\n",
            "+-----------+--------+----------+--------------+------+---------------+------+--------+------+---------+--------------+\n",
            "|   JK-15370|     0.3| 21/8/2016|CA-2016-122581|573.17|FUR-CH-10002961| 63.69|       7|     1|25/8/2016|Standard Class|\n",
            "|   BD-11320|     0.0| 23/9/2017|CA-2017-117485|291.96|TEC-AC-10004659|102.19|       4|     2|29/9/2017|Standard Class|\n",
            "|   LB-16795|     0.7| 6/10/2016|US-2016-157490|  17.0|OFF-BI-10002824|-14.92|       4|     3|7/10/2016|   First Class|\n",
            "|   KB-16315|     0.2|  2/7/2015|CA-2015-111703| 15.55|OFF-PA-10003349|  5.64|       3|     4| 9/7/2015|Standard Class|\n",
            "|   DO-13435|     0.2| 3/10/2014|CA-2014-108903|142.49|TEC-AC-10003023|  -3.0|       3|     5|3/10/2014|      Same Day|\n",
            "+-----------+--------+----------+--------------+------+---------------+------+--------+------+---------+--------------+\n",
            "only showing top 5 rows\n",
            "\n"
          ]
        }
      ]
    },
    {
      "cell_type": "code",
      "source": [
        "#Task1"
      ],
      "metadata": {
        "id": "yBRgZQll7X50"
      },
      "execution_count": null,
      "outputs": []
    },
    {
      "cell_type": "code",
      "source": [
        "\n",
        "def create_raw_tables(customer_df, orders_df, products_df):\n",
        "    \"\"\"\n",
        "    Task 1: Create raw tables (temporary views) for each source dataset\n",
        "    \"\"\"\n",
        "    print(\"=\"*80)\n",
        "    print(\"TASK 1: Creating Raw Tables\")\n",
        "    print(\"=\"*80)\n",
        "\n",
        "    # Create temporary views (raw tables)\n",
        "    customer_df.createOrReplaceTempView(\"raw_customers\")\n",
        "    orders_df.createOrReplaceTempView(\"raw_orders\")\n",
        "    products_df.createOrReplaceTempView(\"raw_products\")\n",
        "\n",
        "    print(f\"✓ Created raw_customers table with {customer_df.count()} records\")\n",
        "    print(f\"✓ Created raw_orders table with {orders_df.count()} records\")\n",
        "    print(f\"✓ Created raw_products table with {products_df.count()} records\")\n",
        "\n",
        "    # Display schemas\n",
        "    print(\"\\n--- Raw Customers Schema ---\")\n",
        "    customer_df.printSchema()\n",
        "\n",
        "    print(\"\\n--- Raw Orders Schema ---\")\n",
        "    orders_df.printSchema()\n",
        "\n",
        "    print(\"\\n--- Raw Products Schema ---\")\n",
        "    products_df.printSchema()\n",
        "\n",
        "    return {\n",
        "        'customers': customer_df,\n",
        "        'orders': orders_df,\n",
        "        'products': products_df\n",
        "    }\n"
      ],
      "metadata": {
        "id": "9XslqRP-49M3"
      },
      "execution_count": 19,
      "outputs": []
    },
    {
      "cell_type": "code",
      "source": [
        "create_raw_tables(customer_df, orders_df, products_df)"
      ],
      "metadata": {
        "colab": {
          "base_uri": "https://localhost:8080/"
        },
        "id": "o0AtnBnE5w2C",
        "outputId": "d64de8f8-5923-4391-af94-63b3472c41d5"
      },
      "execution_count": 20,
      "outputs": [
        {
          "output_type": "stream",
          "name": "stdout",
          "text": [
            "================================================================================\n",
            "TASK 1: Creating Raw Tables\n",
            "================================================================================\n",
            "✓ Created raw_customers table with 793 records\n",
            "✓ Created raw_orders table with 9994 records\n",
            "✓ Created raw_products table with 1851 records\n",
            "\n",
            "--- Raw Customers Schema ---\n",
            "root\n",
            " |-- Customer ID: string (nullable = true)\n",
            " |-- Customer Name: string (nullable = true)\n",
            " |-- email: string (nullable = true)\n",
            " |-- phone: string (nullable = true)\n",
            " |-- address: string (nullable = true)\n",
            " |-- Segment: string (nullable = true)\n",
            " |-- Country: string (nullable = true)\n",
            " |-- City: string (nullable = true)\n",
            " |-- State: string (nullable = true)\n",
            " |-- Postal Code: long (nullable = true)\n",
            " |-- Region: string (nullable = true)\n",
            "\n",
            "\n",
            "--- Raw Orders Schema ---\n",
            "root\n",
            " |-- Customer ID: string (nullable = true)\n",
            " |-- Discount: double (nullable = true)\n",
            " |-- Order Date: string (nullable = true)\n",
            " |-- Order ID: string (nullable = true)\n",
            " |-- Price: double (nullable = true)\n",
            " |-- Product ID: string (nullable = true)\n",
            " |-- Profit: double (nullable = true)\n",
            " |-- Quantity: long (nullable = true)\n",
            " |-- Row ID: long (nullable = true)\n",
            " |-- Ship Date: string (nullable = true)\n",
            " |-- Ship Mode: string (nullable = true)\n",
            "\n",
            "\n",
            "--- Raw Products Schema ---\n",
            "root\n",
            " |-- Product ID: string (nullable = true)\n",
            " |-- Category: string (nullable = true)\n",
            " |-- Sub-Category: string (nullable = true)\n",
            " |-- Product Name: string (nullable = true)\n",
            " |-- State: string (nullable = true)\n",
            " |-- Price per product: string (nullable = true)\n",
            "\n"
          ]
        },
        {
          "output_type": "execute_result",
          "data": {
            "text/plain": [
              "{'customers': DataFrame[Customer ID: string, Customer Name: string, email: string, phone: string, address: string, Segment: string, Country: string, City: string, State: string, Postal Code: bigint, Region: string],\n",
              " 'orders': DataFrame[Customer ID: string, Discount: double, Order Date: string, Order ID: string, Price: double, Product ID: string, Profit: double, Quantity: bigint, Row ID: bigint, Ship Date: string, Ship Mode: string],\n",
              " 'products': DataFrame[Product ID: string, Category: string, Sub-Category: string, Product Name: string, State: string, Price per product: string]}"
            ]
          },
          "metadata": {},
          "execution_count": 20
        }
      ]
    },
    {
      "cell_type": "code",
      "metadata": {
        "id": "a5f4d941"
      },
      "source": [],
      "execution_count": null,
      "outputs": []
    },
    {
      "cell_type": "code",
      "source": [
        "#Task2"
      ],
      "metadata": {
        "id": "q_ZoToIf510i"
      },
      "execution_count": 23,
      "outputs": []
    },
    {
      "cell_type": "code",
      "source": [
        "def create_enriched_customers(customer_df):\n",
        "    \"\"\"\n",
        "    Task 2.1: Create enriched customers table with additional derived fields\n",
        "    \"\"\"\n",
        "    print(\"\\n\" + \"=\"*80)\n",
        "    print(\"TASK 2.1: Creating Enriched Customers Table\")\n",
        "    print(\"=\"*80)\n",
        "\n",
        "    # Note: Using backticks for column names with spaces\n",
        "    enriched_customers = customer_df \\\n",
        "        .withColumn(\"Customer_Name_Clean\", F.trim(F.col(\"`Customer Name`\"))) \\\n",
        "        .withColumn(\"Country_Clean\", F.trim(F.col(\"Country\"))) \\\n",
        "        .withColumn(\"City_Clean\", F.trim(F.col(\"City\"))) \\\n",
        "        .withColumn(\"State_Clean\", F.trim(F.col(\"State\"))) \\\n",
        "        .withColumn(\"Full_Address\",\n",
        "                   F.concat_ws(\", \", F.col(\"City\"), F.col(\"State\"), F.col(\"Country\"))) \\\n",
        "        .withColumn(\"Customer_Segment_Priority\",\n",
        "                   F.when(F.col(\"Segment\") == \"Consumer\", 1)\n",
        "                    .when(F.col(\"Segment\") == \"Corporate\", 2)\n",
        "                    .when(F.col(\"Segment\") == \"Home Office\", 3)\n",
        "                    .otherwise(0)) \\\n",
        "        .withColumn(\"Has_Email\",\n",
        "                   F.when(F.col(\"email\").isNotNull(), 1).otherwise(0)) \\\n",
        "        .withColumn(\"Has_Phone\",\n",
        "                   F.when(F.col(\"phone\").isNotNull(), 1).otherwise(0)) \\\n",
        "        .withColumn(\"processed_date\", F.current_date()) \\\n",
        "        .dropDuplicates([\"Customer ID\"])\n",
        "\n",
        "    # Create temporary view\n",
        "    enriched_customers.createOrReplaceTempView(\"enriched_customers\")\n",
        "\n",
        "    print(f\"✓ Created enriched_customers with {enriched_customers.count()} unique customers\")\n",
        "    print(\"\\nSample enriched customer records:\")\n",
        "    enriched_customers.select(\"`Customer ID`\", \"Customer_Name_Clean\", \"Full_Address\",\n",
        "                             \"Customer_Segment_Priority\").show(5, truncate=False)\n",
        "\n",
        "    # Show segment distribution\n",
        "    print(\"\\nCustomer Segment Distribution:\")\n",
        "    enriched_customers.groupBy(\"Segment\").count().orderBy(\"count\", ascending=False).show()\n",
        "\n",
        "    return enriched_customers"
      ],
      "metadata": {
        "id": "8_NUgTsC6Tg0"
      },
      "execution_count": 25,
      "outputs": []
    },
    {
      "cell_type": "code",
      "source": [
        "create_enriched_customers(customer_df)"
      ],
      "metadata": {
        "colab": {
          "base_uri": "https://localhost:8080/"
        },
        "id": "95O5V1h86Xom",
        "outputId": "d2ee66ad-a6ca-4229-ce8d-21792b565145"
      },
      "execution_count": 26,
      "outputs": [
        {
          "output_type": "stream",
          "name": "stdout",
          "text": [
            "\n",
            "================================================================================\n",
            "TASK 2.1: Creating Enriched Customers Table\n",
            "================================================================================\n",
            "✓ Created enriched_customers with 793 unique customers\n",
            "\n",
            "Sample enriched customer records:\n",
            "+-----------+-------------------+--------------------------------------+-------------------------+\n",
            "|Customer ID|Customer_Name_Clean|Full_Address                          |Customer_Segment_Priority|\n",
            "+-----------+-------------------+--------------------------------------+-------------------------+\n",
            "|AA-10315   |Alex Avila         |Round Rock, Texas, United States      |1                        |\n",
            "|AA-10375   |Allen Armold       |Atlanta, Georgia, United States       |1                        |\n",
            "|AA-10480   |Andrew Allen       |Concord, North Carolina, United States|1                        |\n",
            "|AA-10645   |Anna Andreadi      |Chester, Pennsylvania, United States  |1                        |\n",
            "|AB-10015   |Aaron Bergman      |Arlington, Texas, United States       |1                        |\n",
            "+-----------+-------------------+--------------------------------------+-------------------------+\n",
            "only showing top 5 rows\n",
            "\n",
            "\n",
            "Customer Segment Distribution:\n",
            "+-----------+-----+\n",
            "|    Segment|count|\n",
            "+-----------+-----+\n",
            "|   Consumer|  409|\n",
            "|  Corporate|  236|\n",
            "|Home Office|  148|\n",
            "+-----------+-----+\n",
            "\n"
          ]
        },
        {
          "output_type": "execute_result",
          "data": {
            "text/plain": [
              "DataFrame[Customer ID: string, Customer Name: string, email: string, phone: string, address: string, Segment: string, Country: string, City: string, State: string, Postal Code: bigint, Region: string, Customer_Name_Clean: string, Country_Clean: string, City_Clean: string, State_Clean: string, Full_Address: string, Customer_Segment_Priority: int, Has_Email: int, Has_Phone: int, processed_date: date]"
            ]
          },
          "metadata": {},
          "execution_count": 26
        }
      ]
    },
    {
      "cell_type": "code",
      "source": [
        "# Task 3\n",
        "def create_enriched_orders(orders_df, customer_df, products_df):\n",
        "    \"\"\"\n",
        "    Task 3: Create enriched orders table by joining orders, customers, and products\n",
        "    \"\"\"\n",
        "    print(\"\\n\" + \"=\"*80)\n",
        "    print(\"TASK 3: Creating Enriched Orders Table\")\n",
        "    print(\"=\"*80)\n",
        "\n",
        "    # Join orders with enriched customers\n",
        "    orders_with_customer = orders_df.join(\n",
        "        customer_df,\n",
        "        on=\"Customer ID\",\n",
        "        how=\"inner\"\n",
        "    ).select(\n",
        "        orders_df[\"*\"], # Select all columns from orders\n",
        "        customer_df[\"Customer Name\"],\n",
        "        customer_df[\"Country\"]\n",
        "    )\n",
        "\n",
        "    # Join with products\n",
        "    enriched_orders = orders_with_customer.join(\n",
        "        products_df,\n",
        "        on=\"Product ID\",\n",
        "        how=\"inner\"\n",
        "    ).select(\n",
        "        orders_with_customer[\"*\"], # Select all columns from previous join\n",
        "        products_df[\"Category\"],\n",
        "        products_df[\"Sub-Category\"]\n",
        "    )\n",
        "\n",
        "    # Round Profit to 2 decimal places and cast to Decimal\n",
        "    enriched_orders = enriched_orders.withColumn(\n",
        "        \"Profit_Rounded\",\n",
        "        F.col(\"Profit\").cast(DecimalType(10, 2))\n",
        "    )\n",
        "\n",
        "    # Create temporary view\n",
        "    enriched_orders.createOrReplaceTempView(\"enriched_orders\")\n",
        "\n",
        "    print(f\"✓ Created enriched_orders with {enriched_orders.count()} records\")\n",
        "    print(\"\\nSample enriched order records:\")\n",
        "    enriched_orders.select(\n",
        "        \"Order ID\",\n",
        "        \"Customer ID\",\n",
        "        \"Customer Name\",\n",
        "        \"Country\",\n",
        "        \"Product ID\",\n",
        "        \"Category\",\n",
        "        \"Sub-Category\",\n",
        "        \"Profit\",\n",
        "        \"Profit_Rounded\"\n",
        "    ).show(5, truncate=False)\n",
        "\n",
        "    return enriched_orders\n",
        "\n"
      ],
      "metadata": {
        "id": "TCNQ6ZSL7PU7"
      },
      "execution_count": 28,
      "outputs": []
    },
    {
      "cell_type": "code",
      "source": [
        "enriched_orders_df = create_enriched_orders(orders_df, customer_df, products_df)"
      ],
      "metadata": {
        "colab": {
          "base_uri": "https://localhost:8080/"
        },
        "id": "57O0U_0u7vZm",
        "outputId": "325e222f-ab74-4562-d3d8-5b33f5ab53ce"
      },
      "execution_count": 29,
      "outputs": [
        {
          "output_type": "stream",
          "name": "stdout",
          "text": [
            "\n",
            "================================================================================\n",
            "TASK 3: Creating Enriched Orders Table\n",
            "================================================================================\n",
            "✓ Created enriched_orders with 10133 records\n",
            "\n",
            "Sample enriched order records:\n",
            "+--------------+-----------+-------------+-------------+---------------+---------------+------------+------+--------------+\n",
            "|Order ID      |Customer ID|Customer Name|Country      |Product ID     |Category       |Sub-Category|Profit|Profit_Rounded|\n",
            "+--------------+-----------+-------------+-------------+---------------+---------------+------------+------+--------------+\n",
            "|US-2015-145422|PW-19240   |Pierre Wener |United States|FUR-BO-10002213|Furniture      |Bookcases   |-29.61|-29.61        |\n",
            "|US-2015-145422|PW-19240   |Pierre Wener |United States|FUR-BO-10002213|Furniture      |Bookcases   |-29.61|-29.61        |\n",
            "|US-2015-114839|PW-19240   |Pierre Wener |United States|FUR-CH-10004086|Furniture      |Chairs      |-5.83 |-5.83         |\n",
            "|CA-2015-144274|PW-19240   |Pierre Wener |United States|OFF-PA-10003441|Office Supplies|Paper       |19.0  |19.00         |\n",
            "|CA-2014-164210|PW-19240   |Pierre Wener |United States|FUR-TA-10000849|Furniture      |Tables      |-99.27|-99.27        |\n",
            "+--------------+-----------+-------------+-------------+---------------+---------------+------------+------+--------------+\n",
            "only showing top 5 rows\n",
            "\n"
          ]
        }
      ]
    },
    {
      "cell_type": "code",
      "source": [],
      "metadata": {
        "id": "78iGcNDA74K9"
      },
      "execution_count": null,
      "outputs": []
    },
    {
      "cell_type": "code",
      "metadata": {
        "colab": {
          "base_uri": "https://localhost:8080/"
        },
        "id": "46df38df",
        "outputId": "fb9e82d4-d204-4a76-e1d3-2d5099547202"
      },
      "source": [
        "# Task 4\n",
        "def create_profit_by_year_category_customer(enriched_orders_df):\n",
        "    \"\"\"\n",
        "    Task 4: Create an aggregate table that shows profit by Year, Product Category,\n",
        "            Product Sub Category, and Customer\n",
        "    \"\"\"\n",
        "    print(\"\\n\" + \"=\"*80)\n",
        "    print(\"TASK 4: Creating Profit by Year, Category, Sub-Category, and Customer Table\")\n",
        "    print(\"=\"*80)\n",
        "\n",
        "    spark.conf.set(\"spark.sql.legacy.timeParserPolicy\", \"CORRECTED\")\n",
        "\n",
        "    profit_by_agg = enriched_orders_df \\\n",
        "        .withColumn(\"parsed_date\",\n",
        "                    F.coalesce(\n",
        "                        F.to_date(F.col(\"Order Date\"), \"d/M/yyyy\"),\n",
        "                        F.to_date(F.col(\"Order Date\"), \"dd/MM/yyyy\"),\n",
        "                        F.to_date(F.col(\"Order Date\"), \"M/d/yyyy\"),\n",
        "                        F.to_date(F.col(\"Order Date\"), \"MM/dd/yyyy\")\n",
        "                    )\n",
        "                   ) \\\n",
        "        .withColumn(\"Order_Year\", F.year(F.col(\"parsed_date\")))\n",
        "\n",
        "    print(\"\\nRows with NULL Order_Year after attempting multiple formats:\")\n",
        "    profit_by_agg.filter(F.col(\"Order_Year\").isNull()).select(\"Order Date\", \"parsed_date\").distinct().show(truncate=False)\n",
        "\n",
        "\n",
        "    profit_by_agg = profit_by_agg.groupBy(\"Order_Year\", \"Category\", \"Sub-Category\", \"Customer ID\", \"Customer Name\") \\\n",
        "        .agg(F.sum(\"Profit_Rounded\").alias(\"Total_Profit\")) \\\n",
        "        .orderBy(\"Order_Year\", \"Category\", \"Sub-Category\", \"Customer ID\")\n",
        "\n",
        "\n",
        "    profit_by_agg.createOrReplaceTempView(\"profit_by_year_category_customer\")\n",
        "\n",
        "    print(f\"✓ Created profit_by_year_category_customer with {profit_by_agg.count()} records\")\n",
        "    print(\"\\nSample records from profit_by_year_category_customer:\")\n",
        "    profit_by_agg.show(5, truncate=False)\n",
        "\n",
        "    return profit_by_agg\n",
        "\n",
        "profit_by_agg_df = create_profit_by_year_category_customer(enriched_orders_df)"
      ],
      "execution_count": 33,
      "outputs": [
        {
          "output_type": "stream",
          "name": "stdout",
          "text": [
            "\n",
            "================================================================================\n",
            "TASK 4: Creating Profit by Year, Category, Sub-Category, and Customer Table\n",
            "================================================================================\n",
            "\n",
            "Rows with NULL Order_Year after attempting multiple formats:\n",
            "+----------+-----------+\n",
            "|Order Date|parsed_date|\n",
            "+----------+-----------+\n",
            "+----------+-----------+\n",
            "\n",
            "✓ Created profit_by_year_category_customer with 7937 records\n",
            "\n",
            "Sample records from profit_by_year_category_customer:\n",
            "+----------+---------+------------+-----------+-------------+------------+\n",
            "|Order_Year|Category |Sub-Category|Customer ID|Customer Name|Total_Profit|\n",
            "+----------+---------+------------+-----------+-------------+------------+\n",
            "|2014      |Furniture|Bookcases   |AF-10885   |Art Foster   |-216.98     |\n",
            "|2014      |Furniture|Bookcases   |BD-11605   |Brian Dahlen |3.93        |\n",
            "|2014      |Furniture|Bookcases   |BM-11650   |Brian Moss   |20.52       |\n",
            "|2014      |Furniture|Bookcases   |BS-11590   |Brendan Sweed|-53.29      |\n",
            "|2014      |Furniture|Bookcases   |BT-11440   |Bobby Trafton|-44.20      |\n",
            "+----------+---------+------------+-----------+-------------+------------+\n",
            "only showing top 5 rows\n",
            "\n"
          ]
        }
      ]
    },
    {
      "cell_type": "code",
      "source": [],
      "metadata": {
        "id": "JTz50jFb94RS"
      },
      "execution_count": null,
      "outputs": []
    },
    {
      "cell_type": "code",
      "metadata": {
        "colab": {
          "base_uri": "https://localhost:8080/"
        },
        "id": "3581723b",
        "outputId": "6a4f9b8c-5a25-4528-fd3a-016812b86d16"
      },
      "source": [
        "# Task 5\n",
        "print(\"\\n\" + \"=\"*80)\n",
        "print(\"TASK 5: SQL Aggregations\")\n",
        "print(\"=\"*80)\n",
        "\n",
        "# 5.1 Profit by Year\n",
        "print(\"\\n--- Profit by Year ---\")\n",
        "spark.sql(\"\"\"\n",
        "    SELECT\n",
        "        Order_Year,\n",
        "        SUM(Total_Profit) AS Total_Profit\n",
        "    FROM profit_by_year_category_customer\n",
        "    GROUP BY Order_Year\n",
        "    ORDER BY Order_Year\n",
        "\"\"\").show()\n",
        "\n",
        "# 5.2 Profit by Year + Product Category\n",
        "print(\"\\n--- Profit by Year and Product Category ---\")\n",
        "spark.sql(\"\"\"\n",
        "    SELECT\n",
        "        Order_Year,\n",
        "        Category,\n",
        "        SUM(Total_Profit) AS Total_Profit\n",
        "    FROM profit_by_year_category_customer\n",
        "    GROUP BY Order_Year, Category\n",
        "    ORDER BY Order_Year, Category\n",
        "\"\"\").show()\n",
        "\n",
        "# 5.3 Profit by Customer\n",
        "print(\"\\n--- Profit by Customer ---\")\n",
        "spark.sql(\"\"\"\n",
        "    SELECT\n",
        "        `Customer ID`,\n",
        "        `Customer Name`,\n",
        "        SUM(Total_Profit) AS Total_Profit\n",
        "    FROM profit_by_year_category_customer\n",
        "    GROUP BY `Customer ID`, `Customer Name`\n",
        "    ORDER BY Total_Profit DESC\n",
        "\"\"\").show(truncate=False)\n",
        "\n",
        "# 5.4 Profit by Customer + Year\n",
        "print(\"\\n--- Profit by Customer and Year ---\")\n",
        "spark.sql(\"\"\"\n",
        "    SELECT\n",
        "        `Customer ID`,\n",
        "        `Customer Name`,\n",
        "        Order_Year,\n",
        "        SUM(Total_Profit) AS Total_Profit\n",
        "    FROM profit_by_year_category_customer\n",
        "    WHERE Order_Year IS NOT NULL -- Exclude rows with NULL year if any remain\n",
        "    GROUP BY `Customer ID`, `Customer Name`, Order_Year\n",
        "    ORDER BY `Customer ID`, Order_Year\n",
        "\"\"\").show(truncate=False)"
      ],
      "execution_count": 36,
      "outputs": [
        {
          "output_type": "stream",
          "name": "stdout",
          "text": [
            "\n",
            "================================================================================\n",
            "TASK 5: SQL Aggregations\n",
            "================================================================================\n",
            "\n",
            "--- Profit by Year ---\n",
            "+----------+------------+\n",
            "|Order_Year|Total_Profit|\n",
            "+----------+------------+\n",
            "|      2014|    40975.40|\n",
            "|      2015|    65706.25|\n",
            "|      2016|    68161.13|\n",
            "|      2017|   127175.23|\n",
            "+----------+------------+\n",
            "\n",
            "\n",
            "--- Profit by Year and Product Category ---\n",
            "+----------+---------------+------------+\n",
            "|Order_Year|       Category|Total_Profit|\n",
            "+----------+---------------+------------+\n",
            "|      2014|      Furniture|    -5174.65|\n",
            "|      2014|Office Supplies|    22663.76|\n",
            "|      2014|     Technology|    23486.29|\n",
            "|      2015|      Furniture|     3392.12|\n",
            "|      2015|Office Supplies|    25490.34|\n",
            "|      2015|     Technology|    36823.79|\n",
            "|      2016|      Furniture|     7750.15|\n",
            "|      2016|Office Supplies|    35973.60|\n",
            "|      2016|     Technology|    24437.38|\n",
            "|      2017|      Furniture|     3361.76|\n",
            "|      2017|Office Supplies|    45330.39|\n",
            "|      2017|     Technology|    78483.08|\n",
            "+----------+---------------+------------+\n",
            "\n",
            "\n",
            "--- Profit by Customer ---\n",
            "+-----------+--------------------+------------+\n",
            "|Customer ID|Customer Name       |Total_Profit|\n",
            "+-----------+--------------------+------------+\n",
            "|FH-14275   |Frank Hawley        |25850.07    |\n",
            "|TC-20980   |Tamara Chand        |8983.23     |\n",
            "|RB-19360   |Raymond Buch        |6976.36     |\n",
            "|SC-20095   |Sanjit Chand        |5839.14     |\n",
            "|HL-15040   |Hunter Lopez        |5611.46     |\n",
            "|PR-18880   |Patrick Ryan        |5596.20     |\n",
            "|AB-10105   |Adrian Barton       |5483.75     |\n",
            "|TA-21385   |Tom Ashbrook        |4703.72     |\n",
            "|CM-12385   |Christopher Martinez|3912.03     |\n",
            "|PS-19045   |Penelope Sewall     |3183.77     |\n",
            "|KD-16495   |Keith Dawkins       |3030.05     |\n",
            "|BM-11650   |Brian Moss          |2979.44     |\n",
            "|DR-12940   |Daniel Raglin       |2869.08     |\n",
            "|AR-10540   |Andy Reiter         |2860.34     |\n",
            "|TB-21400   |Tom Boeckenhauer    |2821.71     |\n",
            "|NM-18445   |Nathan Mautz        |2751.70     |\n",
            "|SE-20110   |Sanjit Engle        |2661.23     |\n",
            "|BS-11365   |Bi 8761l Shonely    |2640.41     |\n",
            "|HW-14935   |Helen Wa55erman     |2635.84     |\n",
            "|HM-14860   |Harry Marie         |2438.07     |\n",
            "+-----------+--------------------+------------+\n",
            "only showing top 20 rows\n",
            "\n",
            "\n",
            "--- Profit by Customer and Year ---\n",
            "+-----------+---------------+----------+------------+\n",
            "|Customer ID|Customer Name  |Order_Year|Total_Profit|\n",
            "+-----------+---------------+----------+------------+\n",
            "|AA-10315   |Alex Avila     |2014      |273.68      |\n",
            "|AA-10315   |Alex Avila     |2015      |7.00        |\n",
            "|AA-10315   |Alex Avila     |2016      |-747.09     |\n",
            "|AA-10315   |Alex Avila     |2017      |193.00      |\n",
            "|AA-10375   |Allen Armold   |2014      |16.72       |\n",
            "|AA-10375   |Allen Armold   |2015      |69.03       |\n",
            "|AA-10375   |Allen Armold   |2016      |122.73      |\n",
            "|AA-10375   |Allen Armold   |2017      |68.92       |\n",
            "|AA-10480   |Andrew Allen   |2014      |19.78       |\n",
            "|AA-10480   |Andrew Allen   |2016      |420.75      |\n",
            "|AA-10480   |Andrew Allen   |2017      |5.44        |\n",
            "|AA-10645   |Anna Andreadi  |2014      |77.64       |\n",
            "|AA-10645   |Anna Andreadi  |2015      |389.34      |\n",
            "|AA-10645   |Anna Andreadi  |2016      |334.63      |\n",
            "|AA-10645   |Anna Andreadi  |2017      |6.22        |\n",
            "|AB-10015   |Aaron Bergman  |2014      |12.82       |\n",
            "|AB-10015   |Aaron Bergman  |2016      |116.86      |\n",
            "|AB-10060   |Adam Bellavance|2015      |8.71        |\n",
            "|AB-10060   |Adam Bellavance|2016      |1643.60     |\n",
            "|AB-10060   |Adam Bellavance|2017      |395.55      |\n",
            "+-----------+---------------+----------+------------+\n",
            "only showing top 20 rows\n",
            "\n"
          ]
        }
      ]
    },
    {
      "cell_type": "code",
      "source": [],
      "metadata": {
        "id": "87LtusXR-SF8"
      },
      "execution_count": null,
      "outputs": []
    }
  ]
}