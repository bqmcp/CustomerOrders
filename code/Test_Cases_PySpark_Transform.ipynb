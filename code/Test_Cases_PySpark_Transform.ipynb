{
  "nbformat": 4,
  "nbformat_minor": 0,
  "metadata": {
    "colab": {
      "provenance": []
    },
    "kernelspec": {
      "name": "python3",
      "display_name": "Python 3"
    },
    "language_info": {
      "name": "python"
    }
  },
  "cells": [
    {
      "cell_type": "code",
      "execution_count": 1,
      "metadata": {
        "id": "Sisp2NGZ1xtj"
      },
      "outputs": [],
      "source": [
        "import os\n",
        "import sys\n",
        "import pandas as pd\n",
        "from pyspark.sql import SparkSession\n",
        "from pyspark.sql import functions as F\n",
        "from pyspark.sql.types import *\n",
        "from pyspark.sql.window import Window\n",
        "import unittest\n",
        "import json\n",
        "import csv\n",
        "from datetime import datetime\n",
        "from decimal import Decimal, ROUND_HALF_UP"
      ]
    },
    {
      "cell_type": "code",
      "source": [
        "print(os.getcwd())"
      ],
      "metadata": {
        "colab": {
          "base_uri": "https://localhost:8080/"
        },
        "id": "Oe2seXIp2BtP",
        "outputId": "6d3de347-761f-4bdf-a1ef-aa40ef991e1d"
      },
      "execution_count": 2,
      "outputs": [
        {
          "output_type": "stream",
          "name": "stdout",
          "text": [
            "/content\n"
          ]
        }
      ]
    },
    {
      "cell_type": "code",
      "source": [
        "import pandas as pd\n",
        "from pyspark.sql import SparkSession\n",
        "\n",
        "# Create Spark session if not already created\n",
        "spark = SparkSession.builder \\\n",
        "    .appName(\"EcommerceAnalysis\") \\\n",
        "    .getOrCreate()\n",
        "\n",
        "base_path = \"/content\""
      ],
      "metadata": {
        "id": "7n5wtA7p2Bvg"
      },
      "execution_count": 3,
      "outputs": []
    },
    {
      "cell_type": "code",
      "source": [
        "products_df = spark.read \\\n",
        "    .format(\"csv\") \\\n",
        "    .option(\"header\", \"true\") \\\n",
        "    .option(\"inferSchema\", \"true\") \\\n",
        "    .load(f\"{base_path}/Products.csv\")\n"
      ],
      "metadata": {
        "id": "9i9t7E2B2Bxu"
      },
      "execution_count": 4,
      "outputs": []
    },
    {
      "cell_type": "code",
      "source": [
        "display(products_df)"
      ],
      "metadata": {
        "colab": {
          "base_uri": "https://localhost:8080/",
          "height": 52
        },
        "id": "K-7EZsfZ2B0E",
        "outputId": "735d2fa7-3012-46af-8a3a-ae0ad45feb72"
      },
      "execution_count": 5,
      "outputs": [
        {
          "output_type": "display_data",
          "data": {
            "text/plain": [
              "DataFrame[Product ID: string, Category: string, Sub-Category: string, Product Name: string, State: string, Price per product: string]"
            ]
          },
          "metadata": {}
        }
      ]
    },
    {
      "cell_type": "code",
      "source": [
        "orders_df = spark.read \\\n",
        "    .format(\"json\") \\\n",
        "    .option(\"multiLine\", \"true\") \\\n",
        "    .load(f\"{base_path}/Orders.json\")"
      ],
      "metadata": {
        "id": "uqEXN26K14ra"
      },
      "execution_count": 6,
      "outputs": []
    },
    {
      "cell_type": "code",
      "source": [
        "display(orders_df)"
      ],
      "metadata": {
        "colab": {
          "base_uri": "https://localhost:8080/",
          "height": 52
        },
        "id": "PARXkmst3-AB",
        "outputId": "606bdab9-e768-4ca5-94c6-9b514aba18b2"
      },
      "execution_count": 7,
      "outputs": [
        {
          "output_type": "display_data",
          "data": {
            "text/plain": [
              "DataFrame[Customer ID: string, Discount: double, Order Date: string, Order ID: string, Price: double, Product ID: string, Profit: double, Quantity: bigint, Row ID: bigint, Ship Date: string, Ship Mode: string]"
            ]
          },
          "metadata": {}
        }
      ]
    },
    {
      "cell_type": "code",
      "source": [
        "customer_pd = pd.read_excel(f\"{base_path}/Customer.xlsx\")\n",
        "customer_df = spark.createDataFrame(customer_pd)"
      ],
      "metadata": {
        "id": "o8SZMhLC4Agx"
      },
      "execution_count": 8,
      "outputs": []
    },
    {
      "cell_type": "code",
      "source": [
        "display(customer_df)"
      ],
      "metadata": {
        "colab": {
          "base_uri": "https://localhost:8080/",
          "height": 52
        },
        "id": "VQ9gSgmV4Hzv",
        "outputId": "6a1a82f4-4d59-4bd6-9c0d-26d47187072d"
      },
      "execution_count": 9,
      "outputs": [
        {
          "output_type": "display_data",
          "data": {
            "text/plain": [
              "DataFrame[Customer ID: string, Customer Name: string, email: string, phone: string, address: string, Segment: string, Country: string, City: string, State: string, Postal Code: bigint, Region: string]"
            ]
          },
          "metadata": {}
        }
      ]
    },
    {
      "cell_type": "code",
      "source": [
        "orders_df.show(5)"
      ],
      "metadata": {
        "colab": {
          "base_uri": "https://localhost:8080/"
        },
        "id": "YKfbekeX4uHL",
        "outputId": "d77656ff-e5b0-448b-9b66-4b765bcff94e"
      },
      "execution_count": 10,
      "outputs": [
        {
          "output_type": "stream",
          "name": "stdout",
          "text": [
            "+-----------+--------+----------+--------------+------+---------------+------+--------+------+---------+--------------+\n",
            "|Customer ID|Discount|Order Date|      Order ID| Price|     Product ID|Profit|Quantity|Row ID|Ship Date|     Ship Mode|\n",
            "+-----------+--------+----------+--------------+------+---------------+------+--------+------+---------+--------------+\n",
            "|   JK-15370|     0.3| 21/8/2016|CA-2016-122581|573.17|FUR-CH-10002961| 63.69|       7|     1|25/8/2016|Standard Class|\n",
            "|   BD-11320|     0.0| 23/9/2017|CA-2017-117485|291.96|TEC-AC-10004659|102.19|       4|     2|29/9/2017|Standard Class|\n",
            "|   LB-16795|     0.7| 6/10/2016|US-2016-157490|  17.0|OFF-BI-10002824|-14.92|       4|     3|7/10/2016|   First Class|\n",
            "|   KB-16315|     0.2|  2/7/2015|CA-2015-111703| 15.55|OFF-PA-10003349|  5.64|       3|     4| 9/7/2015|Standard Class|\n",
            "|   DO-13435|     0.2| 3/10/2014|CA-2014-108903|142.49|TEC-AC-10003023|  -3.0|       3|     5|3/10/2014|      Same Day|\n",
            "+-----------+--------+----------+--------------+------+---------------+------+--------+------+---------+--------------+\n",
            "only showing top 5 rows\n",
            "\n"
          ]
        }
      ]
    },
    {
      "cell_type": "code",
      "source": [
        "#Test Cases"
      ],
      "metadata": {
        "id": "yBRgZQll7X50"
      },
      "execution_count": null,
      "outputs": []
    },
    {
      "cell_type": "code",
      "source": [
        "import unittest\n",
        "from pyspark.sql import SparkSession\n",
        "import pandas as pd\n",
        "\n",
        "# Create Spark session for testing\n",
        "spark = SparkSession.builder \\\n",
        "    .appName(\"TestingEcommerceAnalysis\") \\\n",
        "    .getOrCreate()\n",
        "\n",
        "# Load dataframes\n",
        "base_path = \"/content\"\n",
        "customer_pd_test = pd.read_excel(f\"{base_path}/Customer.xlsx\")\n",
        "customer_df_test = spark.createDataFrame(customer_pd_test)\n",
        "\n",
        "orders_df_test = spark.read \\\n",
        "    .format(\"json\") \\\n",
        "    .option(\"multiLine\", \"true\") \\\n",
        "    .load(f\"{base_path}/Orders.json\")\n",
        "\n",
        "print(\"Testing environment setup and dataframes loaded.\")"
      ],
      "metadata": {
        "colab": {
          "base_uri": "https://localhost:8080/"
        },
        "id": "yvunZiHyLOcA",
        "outputId": "5b73d424-ee29-4740-ba9f-8c498bd4b888"
      },
      "execution_count": 46,
      "outputs": [
        {
          "output_type": "stream",
          "name": "stdout",
          "text": [
            "Testing environment setup and dataframes loaded.\n"
          ]
        }
      ]
    },
    {
      "cell_type": "code",
      "source": [],
      "metadata": {
        "id": "w1qXbANuLOem"
      },
      "execution_count": null,
      "outputs": []
    },
    {
      "cell_type": "code",
      "source": [],
      "metadata": {
        "id": "Jl_xUAKRDyUG"
      },
      "execution_count": 55,
      "outputs": []
    },
    {
      "cell_type": "code",
      "source": [],
      "metadata": {
        "id": "WD9CeMW6DyWo"
      },
      "execution_count": 55,
      "outputs": []
    },
    {
      "cell_type": "code",
      "metadata": {
        "id": "f5dec5fa"
      },
      "source": [
        "class TestRawDataQuality(unittest.TestCase):\n",
        "\n",
        "    def test_customer_df_null_values(self):\n",
        "        print(\"\\nTesting for null values in customer_df_test...\")\n",
        "        # Check for null values in key columns\n",
        "        null_counts = customer_df_test.select([F.count(F.when(F.col(c).isNull(), c)).alias(c) for c in customer_df_test.columns])\n",
        "        null_counts_pd = null_counts.toPandas()\n",
        "        print(\"Null counts per column in customer_df_test:\")\n",
        "        print(null_counts_pd)\n",
        "        # Assert that there are no nulls in 'Customer ID' and 'Customer Name'\n",
        "        self.assertEqual(null_counts_pd['Customer ID'][0], 0, \"Customer ID column should not have null values\")\n",
        "        self.assertEqual(null_counts_pd['Customer Name'][0], 0, \"Customer Name column should not have null values\")\n",
        "        print(\"✓ Null value test passed for key columns in customer_df_test.\")\n",
        "\n",
        "    def test_orders_df_null_values(self):\n",
        "        print(\"\\nTesting for null values in orders_df_test...\")\n",
        "        # Check for null values in key columns\n",
        "        null_counts = orders_df_test.select([F.count(F.when(F.col(c).isNull(), c)).alias(c) for c in orders_df_test.columns])\n",
        "        null_counts_pd = null_counts.toPandas()\n",
        "        print(\"Null counts per column in orders_df_test:\")\n",
        "        print(null_counts_pd)\n",
        "        # Assert that there are no nulls in 'Order ID', 'Customer ID', and 'Product ID'\n",
        "        self.assertEqual(null_counts_pd['Order ID'][0], 0, \"Order ID column should not have null values\")\n",
        "        self.assertEqual(null_counts_pd['Customer ID'][0], 0, \"Customer ID column should not have null values\")\n",
        "        self.assertEqual(null_counts_pd['Product ID'][0], 0, \"Product ID column should not have null values\")\n",
        "        print(\"✓ Null value test passed for key columns in orders_df_test.\")\n",
        "\n",
        "    def test_products_df_null_values(self):\n",
        "        print(\"\\nTesting for null values in products_df...\")\n",
        "        # Check for null values in key columns\n",
        "        null_counts = products_df.select([F.count(F.when(F.col(c).isNull(), c)).alias(c) for c in products_df.columns])\n",
        "        null_counts_pd = null_counts.toPandas()\n",
        "        print(\"Null counts per column in products_df:\")\n",
        "        print(null_counts_pd)\n",
        "        # Assert that there are no nulls in 'Product ID' and 'Product Name'\n",
        "        self.assertEqual(null_counts_pd['Product ID'][0], 0, \"Product ID column should not have null values\")\n",
        "        self.assertEqual(null_counts_pd['Product Name'][0], 0, \"Product Name column should not have null values\")\n",
        "        print(\"✓ Null value test passed for key columns in products_df.\")\n",
        "\n",
        "\n",
        "    def test_customer_df_data_types(self):\n",
        "        print(\"\\nTesting data types in customer_df_test...\")\n",
        "        expected_types = {\n",
        "            'Customer ID': 'string',\n",
        "            'Customer Name': 'string',\n",
        "            'email': 'string',\n",
        "            'phone': 'string',\n",
        "            'address': 'string',\n",
        "            'Segment': 'string',\n",
        "            'Country': 'string',\n",
        "            'City': 'string',\n",
        "            'State': 'string',\n",
        "            'Postal Code': 'bigint',\n",
        "            'Region': 'string'\n",
        "        }\n",
        "        actual_types = {col: dtype for col, dtype in customer_df_test.dtypes}\n",
        "        print(\"Actual data types in customer_df_test:\")\n",
        "        print(actual_types)\n",
        "        for col, expected_type in expected_types.items():\n",
        "            self.assertEqual(actual_types.get(col), expected_type, f\"Column '{col}' should be of type {expected_type}\")\n",
        "        print(\"✓ Data type test passed for customer_df_test.\")\n",
        "\n",
        "    def test_orders_df_data_types(self):\n",
        "        print(\"\\nTesting data types in orders_df_test...\")\n",
        "        expected_types = {\n",
        "            'Customer ID': 'string',\n",
        "            'Discount': 'double',\n",
        "            'Order Date': 'string',\n",
        "            'Order ID': 'string',\n",
        "            'Price': 'double',\n",
        "            'Product ID': 'string',\n",
        "            'Profit': 'double',\n",
        "            'Quantity': 'bigint',\n",
        "            'Row ID': 'bigint',\n",
        "            'Ship Date': 'string',\n",
        "            'Ship Mode': 'string'\n",
        "        }\n",
        "        actual_types = {col: dtype for col, dtype in orders_df_test.dtypes}\n",
        "        print(\"Actual data types in orders_df_test:\")\n",
        "        print(actual_types)\n",
        "        for col, expected_type in expected_types.items():\n",
        "            self.assertEqual(actual_types.get(col), expected_type, f\"Column '{col}' should be of type {expected_type}\")\n",
        "        print(\"✓ Data type test passed for orders_df_test.\")\n",
        "\n",
        "    def test_products_df_data_types(self):\n",
        "        print(\"\\nTesting data types in products_df...\")\n",
        "        expected_types = {\n",
        "            'Product ID': 'string',\n",
        "            'Category': 'string',\n",
        "            'Sub-Category': 'string',\n",
        "            'Product Name': 'string',\n",
        "            'State': 'string',\n",
        "            'Price per product': 'string'\n",
        "        }\n",
        "        actual_types = {col: dtype for col, dtype in products_df.dtypes}\n",
        "        print(\"Actual data types in products_df:\")\n",
        "        print(actual_types)\n",
        "        for col, expected_type in expected_types.items():\n",
        "            self.assertEqual(actual_types.get(col), expected_type, f\"Column '{col}' should be of type {expected_type}\")\n",
        "        print(\"✓ Data type test passed for products_df.\")"
      ],
      "execution_count": 76,
      "outputs": []
    },
    {
      "cell_type": "code",
      "source": [
        "if __name__ == '__main__':\n",
        "    suite = unittest.TestSuite()\n",
        "    suite.addTest(unittest.makeSuite(TestRawDataQuality))\n",
        "    runner = unittest.TextTestRunner()\n",
        "    runner.run(suite)"
      ],
      "metadata": {
        "colab": {
          "base_uri": "https://localhost:8080/"
        },
        "id": "MXjoZhQnLgEf",
        "outputId": "d60279d5-67c2-4608-deda-843c1f84b289"
      },
      "execution_count": 77,
      "outputs": [
        {
          "output_type": "stream",
          "name": "stderr",
          "text": [
            "/tmp/ipython-input-755759459.py:3: DeprecationWarning: unittest.makeSuite() is deprecated and will be removed in Python 3.13. Please use unittest.TestLoader.loadTestsFromTestCase() instead.\n",
            "  suite.addTest(unittest.makeSuite(TestRawDataQuality))\n",
            "."
          ]
        },
        {
          "output_type": "stream",
          "name": "stdout",
          "text": [
            "\n",
            "Testing data types in customer_df_test...\n",
            "Actual data types in customer_df_test:\n",
            "{'Customer ID': 'string', 'Customer Name': 'string', 'email': 'string', 'phone': 'string', 'address': 'string', 'Segment': 'string', 'Country': 'string', 'City': 'string', 'State': 'string', 'Postal Code': 'bigint', 'Region': 'string'}\n",
            "✓ Data type test passed for customer_df_test.\n",
            "\n",
            "Testing for null values in customer_df_test...\n"
          ]
        },
        {
          "output_type": "stream",
          "name": "stderr",
          "text": [
            ".."
          ]
        },
        {
          "output_type": "stream",
          "name": "stdout",
          "text": [
            "Null counts per column in customer_df_test:\n",
            "   Customer ID  Customer Name  email  phone  address  Segment  Country  City  \\\n",
            "0            0              0      0      0        0        0        0     0   \n",
            "\n",
            "   State  Postal Code  Region  \n",
            "0      0            0       0  \n",
            "✓ Null value test passed for key columns in customer_df_test.\n",
            "\n",
            "Testing data types in orders_df_test...\n",
            "Actual data types in orders_df_test:\n",
            "{'Customer ID': 'string', 'Discount': 'double', 'Order Date': 'string', 'Order ID': 'string', 'Price': 'double', 'Product ID': 'string', 'Profit': 'double', 'Quantity': 'bigint', 'Row ID': 'bigint', 'Ship Date': 'string', 'Ship Mode': 'string'}\n",
            "✓ Data type test passed for orders_df_test.\n",
            "\n",
            "Testing for null values in orders_df_test...\n"
          ]
        },
        {
          "output_type": "stream",
          "name": "stderr",
          "text": [
            ".."
          ]
        },
        {
          "output_type": "stream",
          "name": "stdout",
          "text": [
            "Null counts per column in orders_df_test:\n",
            "   Customer ID  Discount  Order Date  Order ID  Price  Product ID  Profit  \\\n",
            "0            0         0           0         0      0           0       0   \n",
            "\n",
            "   Quantity  Row ID  Ship Date  Ship Mode  \n",
            "0         0       0          0          0  \n",
            "✓ Null value test passed for key columns in orders_df_test.\n",
            "\n",
            "Testing data types in products_df...\n",
            "Actual data types in products_df:\n",
            "{'Product ID': 'string', 'Category': 'string', 'Sub-Category': 'string', 'Product Name': 'string', 'State': 'string', 'Price per product': 'string'}\n",
            "✓ Data type test passed for products_df.\n",
            "\n",
            "Testing for null values in products_df...\n"
          ]
        },
        {
          "output_type": "stream",
          "name": "stderr",
          "text": [
            ".\n",
            "----------------------------------------------------------------------\n",
            "Ran 6 tests in 1.269s\n",
            "\n",
            "OK\n"
          ]
        },
        {
          "output_type": "stream",
          "name": "stdout",
          "text": [
            "Null counts per column in products_df:\n",
            "   Product ID  Category  Sub-Category  Product Name  State  Price per product\n",
            "0           0         0             0             0      0                  0\n",
            "✓ Null value test passed for key columns in products_df.\n"
          ]
        }
      ]
    },
    {
      "cell_type": "code",
      "source": [
        "#Testing Aggregation Validation\n",
        "\n"
      ],
      "metadata": {
        "id": "RJVG60UPMvD9"
      },
      "execution_count": 74,
      "outputs": []
    },
    {
      "cell_type": "code",
      "source": [],
      "metadata": {
        "id": "vScsYywbRWEQ"
      },
      "execution_count": null,
      "outputs": []
    },
    {
      "cell_type": "code",
      "metadata": {
        "id": "16a62e5f"
      },
      "source": [
        "class TestValidationOrders(unittest.TestCase):\n",
        "\n",
        "    def test_orders_dataframe_not_empty(self):\n",
        "        print(\"\\nTesting that orders_df_test is not empty...\")\n",
        "        # Assert that the loaded orders dataframe has more than 0 rows\n",
        "        self.assertGreater(orders_df_test.count(), 0, \"orders_df_test should not be empty\")\n",
        "        print(\"✓ orders_df_test is not empty.\")\n",
        "\n",
        "    def test_total_orders_count(self):\n",
        "        print(\"\\nTesting total count of orders_df_test...\")\n",
        "        # Get the total count of rows in the loaded orders dataframe\n",
        "        total_orders = orders_df_test.count()\n",
        "        print(f\"Total orders count: {total_orders}\")\n",
        "        # Assert that the total count is a positive number\n",
        "        self.assertGreater(total_orders, 0, \"Total orders count should be greater than 0\")\n",
        "        print(\"✓ Total count of orders_df_test is positive.\")\n",
        "\n",
        "    def test_aggregation_on_loaded_orders(self):\n",
        "        print(\"\\nTesting aggregation on orders_df_test...\")\n",
        "        # Calculate the sum of Quantity for all orders\n",
        "        total_quantity = orders_df_test.agg(F.sum(\"Quantity\").alias(\"TotalQuantity\")).collect()[0][0]\n",
        "        print(f\"Total quantity sold: {total_quantity}\")\n",
        "\n",
        "        # Validate that the total quantity is a positive number\n",
        "        self.assertGreater(total_quantity, 0, \"Total quantity sold should be a positive number\")\n",
        "        print(\"✓aggregation (total quantity) on orders_df_test passed validation.\")\n",
        "\n"
      ],
      "execution_count": 94,
      "outputs": []
    },
    {
      "cell_type": "code",
      "source": [
        "if __name__ == '__main__':\n",
        "    suite = unittest.TestSuite()\n",
        "    suite.addTest(unittest.makeSuite(TestValidationOrders))\n",
        "    runner = unittest.TextTestRunner()\n",
        "    runner.run(suite)"
      ],
      "metadata": {
        "colab": {
          "base_uri": "https://localhost:8080/"
        },
        "id": "69fnB7adOrsM",
        "outputId": "bf888b79-6d0d-4ebb-cabd-743170208507"
      },
      "execution_count": 95,
      "outputs": [
        {
          "output_type": "stream",
          "name": "stderr",
          "text": [
            "/tmp/ipython-input-2058866793.py:3: DeprecationWarning: unittest.makeSuite() is deprecated and will be removed in Python 3.13. Please use unittest.TestLoader.loadTestsFromTestCase() instead.\n",
            "  suite.addTest(unittest.makeSuite(TestValidationOrders))\n"
          ]
        },
        {
          "output_type": "stream",
          "name": "stdout",
          "text": [
            "\n",
            "Testing aggregation on orders_df_test...\n"
          ]
        },
        {
          "output_type": "stream",
          "name": "stderr",
          "text": [
            "."
          ]
        },
        {
          "output_type": "stream",
          "name": "stdout",
          "text": [
            "Total quantity sold: 37873\n",
            "✓aggregation (total quantity) on orders_df_test passed validation.\n",
            "\n",
            "Testing that orders_df_test is not empty...\n"
          ]
        },
        {
          "output_type": "stream",
          "name": "stderr",
          "text": [
            "."
          ]
        },
        {
          "output_type": "stream",
          "name": "stdout",
          "text": [
            "✓ orders_df_test is not empty.\n",
            "\n",
            "Testing total count of orders_df_test...\n"
          ]
        },
        {
          "output_type": "stream",
          "name": "stderr",
          "text": [
            ".\n",
            "----------------------------------------------------------------------\n",
            "Ran 3 tests in 0.694s\n",
            "\n",
            "OK\n"
          ]
        },
        {
          "output_type": "stream",
          "name": "stdout",
          "text": [
            "Total orders count: 9994\n",
            "✓ Total count of orders_df_test is positive.\n"
          ]
        }
      ]
    },
    {
      "cell_type": "code",
      "source": [
        "class TestValidationCustomers(unittest.TestCase):\n",
        "\n",
        "    def test_customers_dataframe_not_empty(self):\n",
        "      print(\"\\nTesting that customers_df_test is not empty...\")\n",
        "      # Assert that the loaded customers dataframe has more than 0 rows\n",
        "      self.assertGreater(customer_df_test.count(), 0, \"customers_df_test should not be empty\")\n",
        "      print(\"✓ customers_df_test is not empty.\")\n",
        "\n",
        "    def test_total_customers_count(self):\n",
        "        print(\"\\nTesting total count of customers_df_test...\")\n",
        "        # Get the total count of rows in the loaded customers dataframe\n",
        "        total_customers = customer_df_test.count()\n",
        "        print(f\"Total customers count: {total_customers}\")\n",
        "        # Assert that the total count is a positive number\n",
        "        self.assertGreater(total_customers, 0, \"Total customers count should be greater than 0\")\n",
        "        print(\"✓ Total count of customers_df_test is positive.\")\n",
        "\n",
        "    def test_aggregation_on_loaded_customers(self):\n",
        "        print(\"\\nTesting aggregation on customers_df_test...\")\n",
        "        # For example, count unique CustomerID values\n",
        "        unique_customers = customer_df_test.select(\"Customer Name\").distinct().count()\n",
        "        print(f\"Number of unique customers: {unique_customers}\")\n",
        "\n",
        "        # Validate that there are unique customers\n",
        "        self.assertGreater(unique_customers, 0, \"Number of unique customers should be a positive number\")\n",
        "        print(\"✓aggregation (unique customers) on customers_df_test passed validation.\")\n"
      ],
      "metadata": {
        "id": "eCvg0CqMOucv"
      },
      "execution_count": 96,
      "outputs": []
    },
    {
      "cell_type": "code",
      "source": [
        "if __name__ == '__main__':\n",
        "    suite = unittest.TestSuite()\n",
        "    suite.addTest(unittest.makeSuite(TestValidationCustomers))\n",
        "    runner = unittest.TextTestRunner()\n",
        "    runner.run(suite)"
      ],
      "metadata": {
        "colab": {
          "base_uri": "https://localhost:8080/"
        },
        "id": "5ORwCBnwTksO",
        "outputId": "f4926ed7-3bb8-4645-ff22-84a2c5c1b24c"
      },
      "execution_count": 97,
      "outputs": [
        {
          "output_type": "stream",
          "name": "stderr",
          "text": [
            "/tmp/ipython-input-4081238069.py:3: DeprecationWarning: unittest.makeSuite() is deprecated and will be removed in Python 3.13. Please use unittest.TestLoader.loadTestsFromTestCase() instead.\n",
            "  suite.addTest(unittest.makeSuite(TestValidationCustomers))\n"
          ]
        },
        {
          "output_type": "stream",
          "name": "stdout",
          "text": [
            "\n",
            "Testing aggregation on customers_df_test...\n"
          ]
        },
        {
          "output_type": "stream",
          "name": "stderr",
          "text": [
            "."
          ]
        },
        {
          "output_type": "stream",
          "name": "stdout",
          "text": [
            "Number of unique customers: 786\n",
            "✓aggregation (unique customers) on customers_df_test passed validation.\n",
            "\n",
            "Testing that customers_df_test is not empty...\n"
          ]
        },
        {
          "output_type": "stream",
          "name": "stderr",
          "text": [
            "."
          ]
        },
        {
          "output_type": "stream",
          "name": "stdout",
          "text": [
            "✓ customers_df_test is not empty.\n",
            "\n",
            "Testing total count of customers_df_test...\n"
          ]
        },
        {
          "output_type": "stream",
          "name": "stderr",
          "text": [
            ".\n",
            "----------------------------------------------------------------------\n",
            "Ran 3 tests in 1.489s\n",
            "\n",
            "OK\n"
          ]
        },
        {
          "output_type": "stream",
          "name": "stdout",
          "text": [
            "Total customers count: 793\n",
            "✓ Total count of customers_df_test is positive.\n"
          ]
        }
      ]
    },
    {
      "cell_type": "code",
      "source": [],
      "metadata": {
        "id": "C9A9s966Tnt2"
      },
      "execution_count": null,
      "outputs": []
    },
    {
      "cell_type": "code",
      "metadata": {
        "id": "8a2808d9"
      },
      "source": [
        "class TestValidationProducts(unittest.TestCase):\n",
        "\n",
        "    def test_products_dataframe_not_empty(self):\n",
        "        print(\"\\nTesting that products_df is not empty...\")\n",
        "        # Assert that the loaded products dataframe has more than 0 rows\n",
        "        self.assertGreater(products_df.count(), 0, \"products_df should not be empty\")\n",
        "        print(\"✓ products_df is not empty.\")\n",
        "\n",
        "    def test_total_products_count(self):\n",
        "        print(\"\\nTesting total count of products_df...\")\n",
        "        # Get the total count of rows in the loaded products dataframe\n",
        "        total_products = products_df.count()\n",
        "        print(f\"Total products count: {total_products}\")\n",
        "        # Assert that the total count is a positive number\n",
        "        self.assertGreater(total_products, 0, \"Total products count should be greater than 0\")\n",
        "        print(\"✓ Total count of products_df is positive.\")\n",
        "\n",
        "    def test_aggregation_on_loaded_products(self):\n",
        "        print(\"\\nTesting aggregation on products_df...\")\n",
        "        # For example, count unique ProductID values\n",
        "        unique_products = products_df.select(\"Product ID\").distinct().count()\n",
        "        print(f\"Number of unique products: {unique_products}\")\n",
        "\n",
        "        # Validate that there are unique products\n",
        "        self.assertGreater(unique_products, 0, \"Number of unique products should be a positive number\")\n",
        "        print(\"✓ aggregation (unique products) on products_df passed validation.\")\n"
      ],
      "execution_count": 99,
      "outputs": []
    },
    {
      "cell_type": "code",
      "source": [
        "\n",
        "if __name__ == '__main__':\n",
        "    suite = unittest.TestSuite()\n",
        "    suite.addTest(unittest.makeSuite(TestValidationProducts))\n",
        "    runner = unittest.TextTestRunner()\n",
        "    runner.run(suite)"
      ],
      "metadata": {
        "colab": {
          "base_uri": "https://localhost:8080/"
        },
        "id": "1M8cKaq8U73n",
        "outputId": "75926e8b-15ce-426f-d63d-b91f5d647177"
      },
      "execution_count": 100,
      "outputs": [
        {
          "output_type": "stream",
          "name": "stderr",
          "text": [
            "/tmp/ipython-input-1886028032.py:3: DeprecationWarning: unittest.makeSuite() is deprecated and will be removed in Python 3.13. Please use unittest.TestLoader.loadTestsFromTestCase() instead.\n",
            "  suite.addTest(unittest.makeSuite(TestValidationProducts))\n"
          ]
        },
        {
          "output_type": "stream",
          "name": "stdout",
          "text": [
            "\n",
            "Testing aggregation on products_df...\n"
          ]
        },
        {
          "output_type": "stream",
          "name": "stderr",
          "text": [
            "."
          ]
        },
        {
          "output_type": "stream",
          "name": "stdout",
          "text": [
            "Number of unique products: 1818\n",
            "✓ aggregation (unique products) on products_df passed validation.\n",
            "\n",
            "Testing that products_df is not empty...\n"
          ]
        },
        {
          "output_type": "stream",
          "name": "stderr",
          "text": [
            ".."
          ]
        },
        {
          "output_type": "stream",
          "name": "stdout",
          "text": [
            "✓ products_df is not empty.\n",
            "\n",
            "Testing total count of products_df...\n",
            "Total products count: 1851\n",
            "✓ Total count of products_df is positive.\n"
          ]
        },
        {
          "output_type": "stream",
          "name": "stderr",
          "text": [
            "\n",
            "----------------------------------------------------------------------\n",
            "Ran 3 tests in 1.028s\n",
            "\n",
            "OK\n"
          ]
        }
      ]
    },
    {
      "cell_type": "code",
      "source": [
        "# Added Test Cases"
      ],
      "metadata": {
        "id": "VP8OSL_OU-yx"
      },
      "execution_count": null,
      "outputs": []
    }
  ]
}