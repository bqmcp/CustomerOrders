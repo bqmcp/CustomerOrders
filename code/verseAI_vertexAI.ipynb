{
  "cells": [
    {
      "cell_type": "code",
      "execution_count": 43,
      "metadata": {
        "id": "c97be6a73155",
        "colab": {
          "base_uri": "https://localhost:8080/"
        },
        "outputId": "31678c5f-41a2-4f4e-a80b-229906ec1c7d"
      },
      "outputs": [
        {
          "output_type": "stream",
          "name": "stdout",
          "text": [
            "Authenticated using cred.json\n"
          ]
        }
      ],
      "source": [
        "import sys\n",
        "import os\n",
        "\n",
        "if \"google.colab\" in sys.modules:\n",
        "    from google.colab import auth\n",
        "    # auth.authenticate_user() # commented out the previous authentication method\n",
        "\n",
        "    # Authenticate using the service account file\n",
        "    os.environ['GOOGLE_APPLICATION_CREDENTIALS'] = 'cred.json'\n",
        "    print(\"Authenticated using cred.json\")"
      ]
    },
    {
      "cell_type": "code",
      "source": [
        "CREDENTIALS_PATH = \"/content/cred.json\""
      ],
      "metadata": {
        "id": "paRgmcyM0oNm"
      },
      "execution_count": 2,
      "outputs": []
    },
    {
      "cell_type": "code",
      "source": [
        "# Import the validation function from your code\n",
        "import os\n",
        "import json\n",
        "\n",
        "# Using the validate_service_account function from your code\n",
        "def validate_service_account(cred_path):\n",
        "    \"\"\"\n",
        "    Validates the service account credentials file and prints its contents safely\n",
        "    \"\"\"\n",
        "    try:\n",
        "        # Check if file exists\n",
        "        if not os.path.exists(cred_path):\n",
        "            return False, f\"Credential file not found at {cred_path}\"\n",
        "\n",
        "        # Load and validate JSON format\n",
        "        with open(cred_path, 'r') as f:\n",
        "            cred_data = json.load(f)\n",
        "\n",
        "        # Check for required fields\n",
        "        required_fields = [\n",
        "            'type', 'project_id', 'private_key_id',\n",
        "            'private_key', 'client_email', 'client_id'\n",
        "        ]\n",
        "\n",
        "        missing_fields = [field for field in required_fields if field not in cred_data]\n",
        "        if missing_fields:\n",
        "            return False, f\"Missing required fields in credentials: {', '.join(missing_fields)}\"\n",
        "\n",
        "        # Print safe information (not the private key)\n",
        "        safe_info = {\n",
        "            'type': cred_data.get('type'),\n",
        "            'project_id': cred_data.get('project_id'),\n",
        "            'client_email': cred_data.get('client_email'),\n",
        "            'auth_uri': cred_data.get('auth_uri'),\n",
        "            'token_uri': cred_data.get('token_uri'),\n",
        "        }\n",
        "\n",
        "        return True, safe_info\n",
        "\n",
        "    except json.JSONDecodeError:\n",
        "        return False, \"Invalid JSON format in credential file\"\n",
        "    except Exception as e:\n",
        "        return False, f\"Error validating credentials: {str(e)}\"\n",
        "\n",
        "# Validate the credentials\n",
        "is_valid, info = validate_service_account(CREDENTIALS_PATH)\n",
        "if is_valid:\n",
        "    print(\"✅ Credentials are valid!\")\n",
        "    print(\"Credential info:\")\n",
        "    for key, value in info.items():\n",
        "        print(f\"  - {key}: {value}\")\n",
        "else:\n",
        "    print(\"❌ Invalid credentials:\", info)"
      ],
      "metadata": {
        "colab": {
          "base_uri": "https://localhost:8080/"
        },
        "id": "eyu7tuBwz9uz",
        "outputId": "fadea652-41a1-4929-b588-bae6ce7b2392"
      },
      "execution_count": 3,
      "outputs": [
        {
          "output_type": "stream",
          "name": "stdout",
          "text": [
            "❌ Invalid credentials: Credential file not found at /content/cred.json\n"
          ]
        }
      ]
    },
    {
      "cell_type": "code",
      "source": [
        "# Set environment variable for Google Cloud authentication\n",
        "import os\n",
        "os.environ[\"GOOGLE_APPLICATION_CREDENTIALS\"] = CREDENTIALS_PATH\n",
        "\n",
        "# Import the initialization function from your code\n",
        "from google.cloud import aiplatform\n",
        "from google.oauth2 import service_account\n",
        "\n",
        "# Using the initialize_vertex_ai function from your code\n",
        "def initialize_vertex_ai(cred_path, project_id=None, location=\"us-central1\"):\n",
        "    \"\"\"\n",
        "    Initialize Vertex AI with the given credentials\n",
        "    \"\"\"\n",
        "    try:\n",
        "        # If project_id is not provided, extract it from credentials\n",
        "        if not project_id:\n",
        "            with open(cred_path, 'r') as f:\n",
        "                cred_data = json.load(f)\n",
        "                project_id = cred_data.get('project_id')\n",
        "\n",
        "        # Create credentials object\n",
        "        credentials = service_account.Credentials.from_service_account_file(\n",
        "            cred_path,\n",
        "            scopes=[\"https://www.googleapis.com/auth/cloud-platform\"]\n",
        "        )\n",
        "\n",
        "        # Initialize Vertex AI\n",
        "        aiplatform.init(\n",
        "            project=project_id,\n",
        "            location=location,\n",
        "            credentials=credentials\n",
        "        )\n",
        "\n",
        "        return True, f\"Successfully initialized Vertex AI for project: {project_id} in {location}\"\n",
        "\n",
        "    except Exception as e:\n",
        "        return False, f\"Error initializing Vertex AI: {str(e)}\"\n",
        "\n",
        "# Initialize Vertex AI\n",
        "init_success, message = initialize_vertex_ai(CREDENTIALS_PATH)\n",
        "print(message)"
      ],
      "metadata": {
        "colab": {
          "base_uri": "https://localhost:8080/"
        },
        "id": "a2zxhRZg0Mnu",
        "outputId": "b0d4b02b-d36c-440d-d963-ee3b190eb4a5"
      },
      "execution_count": 46,
      "outputs": [
        {
          "output_type": "stream",
          "name": "stdout",
          "text": [
            "Successfully initialized Vertex AI for project: project-627b8b21-5a0c-430f-aa1 in us-central1\n"
          ]
        }
      ]
    },
    {
      "cell_type": "code",
      "source": [],
      "metadata": {
        "id": "v7ZK8e541IaD"
      },
      "execution_count": 49,
      "outputs": []
    },
    {
      "cell_type": "code",
      "source": [],
      "metadata": {
        "id": "5vmFxqEP2XWj"
      },
      "execution_count": null,
      "outputs": []
    },
    {
      "cell_type": "code",
      "source": [
        "MODEL_ID=\"gemini-2.5-pro\"\n",
        "PROJECT_ID=\"project-627b8b21-5a0c-430f-aa1\"\n",
        "CREDENTIALS_PATH = \"/content/cred.json\"\n"
      ],
      "metadata": {
        "id": "kRqwTACn5LV7"
      },
      "execution_count": 51,
      "outputs": []
    },
    {
      "cell_type": "code",
      "source": [],
      "metadata": {
        "id": "M26rp1jfFytG"
      },
      "execution_count": null,
      "outputs": []
    },
    {
      "cell_type": "code",
      "source": [
        "from google import genai\n",
        "\n",
        "client = genai.Client(api_key=GEMINI_KEY)\n",
        "\n",
        "response = client.models.generate_content(\n",
        "    model=\"gemini-2.5-flash\", contents=\"Tell me a joke\"\n",
        ")\n",
        "print(response.text)"
      ],
      "metadata": {
        "colab": {
          "base_uri": "https://localhost:8080/"
        },
        "id": "GUMZd6iPFyrC",
        "outputId": "6502a872-574b-4568-ddda-c984f36ae750"
      },
      "execution_count": 53,
      "outputs": [
        {
          "output_type": "stream",
          "name": "stdout",
          "text": [
            "Why don't scientists trust atoms?\n",
            "\n",
            "Because they make up everything!\n"
          ]
        }
      ]
    },
    {
      "cell_type": "code",
      "source": [],
      "metadata": {
        "id": "HV4fykEUJbib"
      },
      "execution_count": null,
      "outputs": []
    },
    {
      "cell_type": "code",
      "source": [
        "from openai import OpenAI\n",
        "\n",
        "client = OpenAI(\n",
        "    api_key=GEMINI_KEY,\n",
        "    base_url=\"https://generativelanguage.googleapis.com/v1beta/openai/\"\n",
        ")\n",
        "\n",
        "response = client.chat.completions.create(\n",
        "  model=\"gemini-2.0-flash\",\n",
        "  messages=[\n",
        "    {\"role\": \"system\", \"content\": \"You are a helpful assistant.\"},\n",
        "    {\"role\": \"user\", \"content\": \"Hello!\"}\n",
        "  ],\n",
        "  stream=True\n",
        ")\n",
        "\n",
        "for chunk in response:\n",
        "    print(chunk.choices[0].delta)"
      ],
      "metadata": {
        "colab": {
          "base_uri": "https://localhost:8080/"
        },
        "id": "mA7bNPZfJbgS",
        "outputId": "1b8e46d4-d9a4-4a28-995f-8adf017a72e8"
      },
      "execution_count": 54,
      "outputs": [
        {
          "output_type": "stream",
          "name": "stdout",
          "text": [
            "ChoiceDelta(content='Hello', function_call=None, refusal=None, role='assistant', tool_calls=None)\n",
            "ChoiceDelta(content='!', function_call=None, refusal=None, role='assistant', tool_calls=None)\n",
            "ChoiceDelta(content=' How can I help you today?\\n', function_call=None, refusal=None, role='assistant', tool_calls=None)\n"
          ]
        }
      ]
    },
    {
      "cell_type": "code",
      "source": [],
      "metadata": {
        "id": "id1OOvRfJbeK"
      },
      "execution_count": null,
      "outputs": []
    },
    {
      "cell_type": "code",
      "source": [],
      "metadata": {
        "id": "IDIfoS7bJbb3"
      },
      "execution_count": null,
      "outputs": []
    },
    {
      "cell_type": "code",
      "source": [
        "from google import genai\n",
        "from google.genai import types\n",
        "client = genai.Client(\n",
        "  vertexai=True, project=PROJECT_ID, location=\"global\",\n",
        ")\n",
        "# If your image is stored in Google Cloud Storage, you can use the from_uri class method to create a Part object.\n",
        "IMAGE_URI = \"gs://generativeai-downloads/images/scones.jpg\"\n",
        "model = \"gemini-2.5-pro\"\n",
        "response = client.models.generate_content(\n",
        "  model=model,\n",
        "  contents=[\n",
        "    \"What is shown in this image?\",\n",
        "    types.Part.from_uri(\n",
        "      file_uri=IMAGE_URI,\n",
        "      mime_type=\"image/png\",\n",
        "    ),\n",
        "  ],\n",
        ")\n",
        "print(response.text, end=\"\")"
      ],
      "metadata": {
        "colab": {
          "base_uri": "https://localhost:8080/"
        },
        "id": "__canGs45W6n",
        "outputId": "804df024-1edc-4d41-89d8-70a814bcf5fb"
      },
      "execution_count": 49,
      "outputs": [
        {
          "output_type": "stream",
          "name": "stdout",
          "text": [
            "This is a beautifully styled, top-down photograph of a rustic and inviting breakfast or snack scene. Here's a breakdown of what's shown:\n",
            "\n",
            "*   **Main Food Item:** The focus is on several round, crumbly baked goods, which appear to be **blueberry scones or biscuits**. They are sprinkled with sugar and arranged on a piece of white parchment paper that is stained with purple from the baked berries.\n",
            "*   **Accompaniments:**\n",
            "    *   A small dark bowl filled with fresh **blueberries**.\n",
            "    *   A decorative silver spoon resting by the bowl, engraved with the words **\"LET'S JAM\"**.\n",
            "    *   Two white mugs of **coffee**: one appears to be black coffee, and the other contains coffee with milk or cream.\n",
            "*   **Decorative Elements:**\n",
            "    *   A bouquet of fresh **pink peonies** on the right side of the frame.\n",
            "    *   A few scattered fresh blueberries and small mint leaves used as garnish.\n",
            "*   **Setting:** The entire scene is set on a dark, textured surface, which gives it a moody and rustic feel. The composition is arranged in a \"flat lay\" style, popular in food photography."
          ]
        }
      ]
    },
    {
      "cell_type": "code",
      "source": [],
      "metadata": {
        "id": "iuMuSsOP5pj3"
      },
      "execution_count": 41,
      "outputs": []
    },
    {
      "cell_type": "code",
      "source": [],
      "metadata": {
        "id": "la-QIQKw8ZOP"
      },
      "execution_count": null,
      "outputs": []
    },
    {
      "cell_type": "code",
      "metadata": {
        "id": "364208b6"
      },
      "source": [],
      "execution_count": 40,
      "outputs": []
    }
  ],
  "metadata": {
    "colab": {
      "provenance": []
    },
    "kernelspec": {
      "display_name": "Python 3",
      "name": "python3"
    }
  },
  "nbformat": 4,
  "nbformat_minor": 0
}